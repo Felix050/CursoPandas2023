{
  "nbformat": 4,
  "nbformat_minor": 0,
  "metadata": {
    "colab": {
      "provenance": [],
      "authorship_tag": "ABX9TyM1lUKqFJdCH45/VkfUoiIg",
      "include_colab_link": true
    },
    "kernelspec": {
      "name": "python3",
      "display_name": "Python 3"
    },
    "language_info": {
      "name": "python"
    }
  },
  "cells": [
    {
      "cell_type": "markdown",
      "metadata": {
        "id": "view-in-github",
        "colab_type": "text"
      },
      "source": [
        "<a href=\"https://colab.research.google.com/github/Felix050/CursoPandas2023/blob/master/10_02_23_Final.ipynb\" target=\"_parent\"><img src=\"https://colab.research.google.com/assets/colab-badge.svg\" alt=\"Open In Colab\"/></a>"
      ]
    },
    {
      "cell_type": "markdown",
      "source": [
        "Algumas colunas do DataFrame não foram possiveis de fazer os graficos individualmente :(\n",
        "As colunas não são do tipo float ou int."
      ],
      "metadata": {
        "id": "17wvNXh7SxJj"
      }
    },
    {
      "cell_type": "code",
      "execution_count": 1,
      "metadata": {
        "id": "gbcCdwOBOf6S"
      },
      "outputs": [],
      "source": [
        "# Importando biblioteca pandas no Python\n",
        "import pandas as pd"
      ]
    },
    {
      "cell_type": "code",
      "source": [
        "# Utilizando minha base de dados escolhida\n",
        "mercadoDeDados_df = pd.read_excel(\"StateOfData.xlsx\")\n",
        "display(mercadoDeDados_df.head())"
      ],
      "metadata": {
        "colab": {
          "base_uri": "https://localhost:8080/",
          "height": 632
        },
        "id": "tJ_5EgcOOlnF",
        "outputId": "7cb5a95e-4209-47aa-c9fe-88275c3995c3"
      },
      "execution_count": 2,
      "outputs": [
        {
          "output_type": "display_data",
          "data": {
            "text/plain": [
              "   ('P1_a ', 'Idade') ('P1_b ', 'Genero') ('P1_e_b ', 'Regiao onde mora')  \\\n",
              "0                38.0           Masculino                        Nordeste   \n",
              "1                39.0           Masculino                        Nordeste   \n",
              "2                30.0           Masculino                             Sul   \n",
              "3                38.0            Feminino                         Sudeste   \n",
              "4                36.0           Masculino                             Sul   \n",
              "\n",
              "  ('P1_h ', 'Nivel de Ensino')  \\\n",
              "0                Pós-graduação   \n",
              "1                Pós-graduação   \n",
              "2                Pós-graduação   \n",
              "3                Pós-graduação   \n",
              "4                Pós-graduação   \n",
              "\n",
              "                       ('P1_i ', 'Área de Formação')  \\\n",
              "0                                   Química / Física   \n",
              "1  Economia/ Administração / Contabilidade / Fina...   \n",
              "2  Computação / Engenharia de Software / Sistemas...   \n",
              "3                                             Outras   \n",
              "4                                 Outras Engenharias   \n",
              "\n",
              "  ('P2_a ', 'Qual sua situação atual de trabalho?') ('P2_b ', 'Setor')  \\\n",
              "0                                   Empregado (CLT)          Marketing   \n",
              "1                  Empreendedor ou Empregado (CNPJ)        Consultoria   \n",
              "2                                   Empregado (CLT)          Indústria   \n",
              "3                  Empreendedor ou Empregado (CNPJ)           Serviços   \n",
              "4                  Empreendedor ou Empregado (CNPJ)             Varejo   \n",
              "\n",
              "        ('P2_h ', 'Faixa salarial')  \\\n",
              "0    de R$ 4.001/mês a R$ 6.000/mês   \n",
              "1    de R$ 6.001/mês a R$ 8.000/mês   \n",
              "2   de R$ 8.001/mês a R$ 12.000/mês   \n",
              "3  de R$ 12.001/mês a R$ 16.000/mês   \n",
              "4   de R$ 8.001/mês a R$ 12.000/mês   \n",
              "\n",
              "  ('P2_i ', 'Quanto tempo de experiência na área de dados você tem?')  \\\n",
              "0                                    Mais de 10 anos                    \n",
              "1                                      de 2 a 3 anos                    \n",
              "2                                      de 1 a 2 anos                    \n",
              "3                                    Mais de 10 anos                    \n",
              "4                                      de 1 a 2 anos                    \n",
              "\n",
              "   Unnamed: 9  \n",
              "0         NaN  \n",
              "1         NaN  \n",
              "2         NaN  \n",
              "3         NaN  \n",
              "4         NaN  "
            ],
            "text/html": [
              "\n",
              "  <div id=\"df-afea112c-e8dd-4a33-a782-c37d70195d22\">\n",
              "    <div class=\"colab-df-container\">\n",
              "      <div>\n",
              "<style scoped>\n",
              "    .dataframe tbody tr th:only-of-type {\n",
              "        vertical-align: middle;\n",
              "    }\n",
              "\n",
              "    .dataframe tbody tr th {\n",
              "        vertical-align: top;\n",
              "    }\n",
              "\n",
              "    .dataframe thead th {\n",
              "        text-align: right;\n",
              "    }\n",
              "</style>\n",
              "<table border=\"1\" class=\"dataframe\">\n",
              "  <thead>\n",
              "    <tr style=\"text-align: right;\">\n",
              "      <th></th>\n",
              "      <th>('P1_a ', 'Idade')</th>\n",
              "      <th>('P1_b ', 'Genero')</th>\n",
              "      <th>('P1_e_b ', 'Regiao onde mora')</th>\n",
              "      <th>('P1_h ', 'Nivel de Ensino')</th>\n",
              "      <th>('P1_i ', 'Área de Formação')</th>\n",
              "      <th>('P2_a ', 'Qual sua situação atual de trabalho?')</th>\n",
              "      <th>('P2_b ', 'Setor')</th>\n",
              "      <th>('P2_h ', 'Faixa salarial')</th>\n",
              "      <th>('P2_i ', 'Quanto tempo de experiência na área de dados você tem?')</th>\n",
              "      <th>Unnamed: 9</th>\n",
              "    </tr>\n",
              "  </thead>\n",
              "  <tbody>\n",
              "    <tr>\n",
              "      <th>0</th>\n",
              "      <td>38.0</td>\n",
              "      <td>Masculino</td>\n",
              "      <td>Nordeste</td>\n",
              "      <td>Pós-graduação</td>\n",
              "      <td>Química / Física</td>\n",
              "      <td>Empregado (CLT)</td>\n",
              "      <td>Marketing</td>\n",
              "      <td>de R$ 4.001/mês a R$ 6.000/mês</td>\n",
              "      <td>Mais de 10 anos</td>\n",
              "      <td>NaN</td>\n",
              "    </tr>\n",
              "    <tr>\n",
              "      <th>1</th>\n",
              "      <td>39.0</td>\n",
              "      <td>Masculino</td>\n",
              "      <td>Nordeste</td>\n",
              "      <td>Pós-graduação</td>\n",
              "      <td>Economia/ Administração / Contabilidade / Fina...</td>\n",
              "      <td>Empreendedor ou Empregado (CNPJ)</td>\n",
              "      <td>Consultoria</td>\n",
              "      <td>de R$ 6.001/mês a R$ 8.000/mês</td>\n",
              "      <td>de 2 a 3 anos</td>\n",
              "      <td>NaN</td>\n",
              "    </tr>\n",
              "    <tr>\n",
              "      <th>2</th>\n",
              "      <td>30.0</td>\n",
              "      <td>Masculino</td>\n",
              "      <td>Sul</td>\n",
              "      <td>Pós-graduação</td>\n",
              "      <td>Computação / Engenharia de Software / Sistemas...</td>\n",
              "      <td>Empregado (CLT)</td>\n",
              "      <td>Indústria</td>\n",
              "      <td>de R$ 8.001/mês a R$ 12.000/mês</td>\n",
              "      <td>de 1 a 2 anos</td>\n",
              "      <td>NaN</td>\n",
              "    </tr>\n",
              "    <tr>\n",
              "      <th>3</th>\n",
              "      <td>38.0</td>\n",
              "      <td>Feminino</td>\n",
              "      <td>Sudeste</td>\n",
              "      <td>Pós-graduação</td>\n",
              "      <td>Outras</td>\n",
              "      <td>Empreendedor ou Empregado (CNPJ)</td>\n",
              "      <td>Serviços</td>\n",
              "      <td>de R$ 12.001/mês a R$ 16.000/mês</td>\n",
              "      <td>Mais de 10 anos</td>\n",
              "      <td>NaN</td>\n",
              "    </tr>\n",
              "    <tr>\n",
              "      <th>4</th>\n",
              "      <td>36.0</td>\n",
              "      <td>Masculino</td>\n",
              "      <td>Sul</td>\n",
              "      <td>Pós-graduação</td>\n",
              "      <td>Outras Engenharias</td>\n",
              "      <td>Empreendedor ou Empregado (CNPJ)</td>\n",
              "      <td>Varejo</td>\n",
              "      <td>de R$ 8.001/mês a R$ 12.000/mês</td>\n",
              "      <td>de 1 a 2 anos</td>\n",
              "      <td>NaN</td>\n",
              "    </tr>\n",
              "  </tbody>\n",
              "</table>\n",
              "</div>\n",
              "      <button class=\"colab-df-convert\" onclick=\"convertToInteractive('df-afea112c-e8dd-4a33-a782-c37d70195d22')\"\n",
              "              title=\"Convert this dataframe to an interactive table.\"\n",
              "              style=\"display:none;\">\n",
              "        \n",
              "  <svg xmlns=\"http://www.w3.org/2000/svg\" height=\"24px\"viewBox=\"0 0 24 24\"\n",
              "       width=\"24px\">\n",
              "    <path d=\"M0 0h24v24H0V0z\" fill=\"none\"/>\n",
              "    <path d=\"M18.56 5.44l.94 2.06.94-2.06 2.06-.94-2.06-.94-.94-2.06-.94 2.06-2.06.94zm-11 1L8.5 8.5l.94-2.06 2.06-.94-2.06-.94L8.5 2.5l-.94 2.06-2.06.94zm10 10l.94 2.06.94-2.06 2.06-.94-2.06-.94-.94-2.06-.94 2.06-2.06.94z\"/><path d=\"M17.41 7.96l-1.37-1.37c-.4-.4-.92-.59-1.43-.59-.52 0-1.04.2-1.43.59L10.3 9.45l-7.72 7.72c-.78.78-.78 2.05 0 2.83L4 21.41c.39.39.9.59 1.41.59.51 0 1.02-.2 1.41-.59l7.78-7.78 2.81-2.81c.8-.78.8-2.07 0-2.86zM5.41 20L4 18.59l7.72-7.72 1.47 1.35L5.41 20z\"/>\n",
              "  </svg>\n",
              "      </button>\n",
              "      \n",
              "  <style>\n",
              "    .colab-df-container {\n",
              "      display:flex;\n",
              "      flex-wrap:wrap;\n",
              "      gap: 12px;\n",
              "    }\n",
              "\n",
              "    .colab-df-convert {\n",
              "      background-color: #E8F0FE;\n",
              "      border: none;\n",
              "      border-radius: 50%;\n",
              "      cursor: pointer;\n",
              "      display: none;\n",
              "      fill: #1967D2;\n",
              "      height: 32px;\n",
              "      padding: 0 0 0 0;\n",
              "      width: 32px;\n",
              "    }\n",
              "\n",
              "    .colab-df-convert:hover {\n",
              "      background-color: #E2EBFA;\n",
              "      box-shadow: 0px 1px 2px rgba(60, 64, 67, 0.3), 0px 1px 3px 1px rgba(60, 64, 67, 0.15);\n",
              "      fill: #174EA6;\n",
              "    }\n",
              "\n",
              "    [theme=dark] .colab-df-convert {\n",
              "      background-color: #3B4455;\n",
              "      fill: #D2E3FC;\n",
              "    }\n",
              "\n",
              "    [theme=dark] .colab-df-convert:hover {\n",
              "      background-color: #434B5C;\n",
              "      box-shadow: 0px 1px 3px 1px rgba(0, 0, 0, 0.15);\n",
              "      filter: drop-shadow(0px 1px 2px rgba(0, 0, 0, 0.3));\n",
              "      fill: #FFFFFF;\n",
              "    }\n",
              "  </style>\n",
              "\n",
              "      <script>\n",
              "        const buttonEl =\n",
              "          document.querySelector('#df-afea112c-e8dd-4a33-a782-c37d70195d22 button.colab-df-convert');\n",
              "        buttonEl.style.display =\n",
              "          google.colab.kernel.accessAllowed ? 'block' : 'none';\n",
              "\n",
              "        async function convertToInteractive(key) {\n",
              "          const element = document.querySelector('#df-afea112c-e8dd-4a33-a782-c37d70195d22');\n",
              "          const dataTable =\n",
              "            await google.colab.kernel.invokeFunction('convertToInteractive',\n",
              "                                                     [key], {});\n",
              "          if (!dataTable) return;\n",
              "\n",
              "          const docLinkHtml = 'Like what you see? Visit the ' +\n",
              "            '<a target=\"_blank\" href=https://colab.research.google.com/notebooks/data_table.ipynb>data table notebook</a>'\n",
              "            + ' to learn more about interactive tables.';\n",
              "          element.innerHTML = '';\n",
              "          dataTable['output_type'] = 'display_data';\n",
              "          await google.colab.output.renderOutput(dataTable, element);\n",
              "          const docLink = document.createElement('div');\n",
              "          docLink.innerHTML = docLinkHtml;\n",
              "          element.appendChild(docLink);\n",
              "        }\n",
              "      </script>\n",
              "    </div>\n",
              "  </div>\n",
              "  "
            ]
          },
          "metadata": {}
        }
      ]
    },
    {
      "cell_type": "code",
      "source": [
        "#Importando biblioteca para fazer graficos\n",
        "#Aqui utilizei o sexo das pessoas que preencheram a pesquisa\n",
        "#Podemos ver que a maioria é homem\n",
        "\n",
        "import matplotlib.pyplot as plt\n",
        "\n",
        "plt.hist(mercadoDeDados_df[\"('P1_b ', 'Genero')\"])\n",
        "plt.title(\"Genero dos colaboradores - Mercado de dados 2021\")\n",
        "#Rótulo horizontal e vertical\n",
        "plt.xlabel(\"Genero\")\n",
        "plt.ylabel(\"Quantidade de respostas\")"
      ],
      "metadata": {
        "colab": {
          "base_uri": "https://localhost:8080/",
          "height": 312
        },
        "id": "GTVp5VaIO-oD",
        "outputId": "b747ef7e-ca0c-41ed-a5d0-5c3dc84631d8"
      },
      "execution_count": 11,
      "outputs": [
        {
          "output_type": "execute_result",
          "data": {
            "text/plain": [
              "Text(0, 0.5, 'Quantidade de respostas')"
            ]
          },
          "metadata": {},
          "execution_count": 11
        },
        {
          "output_type": "display_data",
          "data": {
            "text/plain": [
              "<Figure size 432x288 with 1 Axes>"
            ],
            "image/png": "[encoded data removed]"
          },
          "metadata": {
            "needs_background": "light"
          }
        }
      ]
    },
    {
      "cell_type": "code",
      "source": [
        "#Aqui vemos que a maioria tem entre 25 a 30 anos\n",
        "plt.hist(mercadoDeDados_df[\"('P1_a ', 'Idade')\"])\n",
        "plt.title(\"Idade dos colaboradores - Mercado de dados 2021\")\n",
        "#Rótulo horizontal e vertical\n",
        "plt.xlabel(\"Idade\")\n",
        "plt.ylabel(\"Quantidade de respostas\")\n",
        "#Traça a linha vermelha tracejada com o preço médio\n",
        "plt.axvline(mercadoDeDados_df[\"('P1_a ', 'Idade')\"].mean(), color='red', linestyle='dashed', linewidth=5)"
      ],
      "metadata": {
        "colab": {
          "base_uri": "https://localhost:8080/",
          "height": 312
        },
        "id": "Fh5T9f5GP29b",
        "outputId": "a7ff3e7d-670e-4e5d-c611-b9ffad8cde64"
      },
      "execution_count": 27,
      "outputs": [
        {
          "output_type": "execute_result",
          "data": {
            "text/plain": [
              "<matplotlib.lines.Line2D at 0x7f5f36989cd0>"
            ]
          },
          "metadata": {},
          "execution_count": 27
        },
        {
          "output_type": "display_data",
          "data": {
            "text/plain": [
              "<Figure size 432x288 with 1 Axes>"
            ],
            "image/png": "[encoded data removed]"
          },
          "metadata": {
            "needs_background": "light"
          }
        }
      ]
    },
    {
      "cell_type": "code",
      "source": [
        "c_mean = mercadoDeDados_df[\"('P1_a ', 'Idade')\"].groupby(by=mercadoDeDados_df[\"('P1_b ', 'Genero')\"]).mean()\n",
        "display(c_mean)"
      ],
      "metadata": {
        "colab": {
          "base_uri": "https://localhost:8080/",
          "height": 104
        },
        "id": "7wND_JegXCpR",
        "outputId": "31717842-fca9-4851-d2f8-73882ecae624"
      },
      "execution_count": 29,
      "outputs": [
        {
          "output_type": "display_data",
          "data": {
            "text/plain": [
              "('P1_b ', 'Genero')\n",
              "Feminino     30.584521\n",
              "Masculino    31.308310\n",
              "Outro        26.250000\n",
              "Name: ('P1_a ', 'Idade'), dtype: float64"
            ]
          },
          "metadata": {}
        }
      ]
    },
    {
      "cell_type": "code",
      "source": [
        "#Vou definir a área do gráfico\n",
        "plt.figure(figsize=(7,5))\n",
        "\n",
        "#Plotar o gráfico\n",
        "c_mean.plot(\n",
        "    kind=\"barh\",\n",
        "    xlabel=\"IDADE\",\n",
        "    ylabel=\"QUANTIDADE DE RESPOSTAS\",\n",
        "    color=\"green\"\n",
        ")\n",
        "\n",
        "#Grid\n",
        "plt.grid()\n",
        "\n",
        "#Exibe\n",
        "plt.show()"
      ],
      "metadata": {
        "colab": {
          "base_uri": "https://localhost:8080/",
          "height": 320
        },
        "id": "bnaxEBObYw2B",
        "outputId": "e25377b4-f69e-4c74-90a5-c3601256e5ce"
      },
      "execution_count": 31,
      "outputs": [
        {
          "output_type": "display_data",
          "data": {
            "text/plain": [
              "<Figure size 504x360 with 1 Axes>"
            ],
            "image/png": "[encoded data removed]"
          },
          "metadata": {
            "needs_background": "light"
          }
        }
      ]
    },
    {
      "cell_type": "code",
      "source": [
        "#c_mean.reset_index(inplace=True)\n",
        "display(c_mean)\n",
        "\n",
        "excel = \"GeneroIdade.xlsx\"\n",
        "c_mean.to_excel(excel, \"Sumário\")"
      ],
      "metadata": {
        "colab": {
          "base_uri": "https://localhost:8080/",
          "height": 104
        },
        "id": "DbCsOHg-bIIA",
        "outputId": "20c39962-4977-49c3-cb2c-917016910006"
      },
      "execution_count": 34,
      "outputs": [
        {
          "output_type": "display_data",
          "data": {
            "text/plain": [
              "('P1_b ', 'Genero')\n",
              "Feminino     30.584521\n",
              "Masculino    31.308310\n",
              "Outro        26.250000\n",
              "Name: ('P1_a ', 'Idade'), dtype: float64"
            ]
          },
          "metadata": {}
        }
      ]
    },
    {
      "cell_type": "code",
      "source": [
        "#Vamor personalizar a planilha Excel...\n",
        "from openpyxl import load_workbook\n",
        "from openpyxl.styles import PatternFill, Font, Color, Alignment\n",
        "\n",
        "#Vai abrir o Excel no openpyxl\n",
        "wb = load_workbook(excel) # wb = Workbook\n",
        "\n",
        "#Pegar a planilha certa... usando o Sheet Name (nome da planilha)\n",
        "ws = wb['Sumário'] # Work Sheet -> planilha atual, ativa, de trabalho\n",
        "\n",
        "#Vamos pintar o cabeçalho da tabela de \"cinzinha\"\n",
        "darkblue = PatternFill(\"solid\", fgColor=\"00FFFF\")\n",
        "coords = ['A1', 'B1']\n",
        "for coord in coords:\n",
        "  ws[coord].fill = cinzinha\n",
        "\n",
        "#Onde a idade for maior que 30 pintar de vermelho e deixa negrito...\n",
        "#Bem simples, devia ter escolhido outra base desde o inicio, infelizmente sem tempo.\n",
        "MAX_ROW = ws.max_row\n",
        "num_linha = 2\n",
        "while (num_linha <= MAX_ROW):\n",
        "  coord = 'B'+str(num_linha) #coord=\"B{0}\".format(num_linha)\n",
        "  if ws[coord].value >= 30:\n",
        "    ws[coord].font = Font(bold=True, color=\"FF0000\")\n",
        "  num_linha = num_linha + 1\n",
        "\n",
        "#Salvar o Excel\n",
        "wb.save(excel)"
      ],
      "metadata": {
        "id": "QGxf9porb0G_"
      },
      "execution_count": 41,
      "outputs": []
    }
  ]
}